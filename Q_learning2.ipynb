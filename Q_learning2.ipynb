{
 "cells": [
  {
   "cell_type": "code",
   "execution_count": 1,
   "metadata": {},
   "outputs": [],
   "source": [
    "# import libraries and create array \n",
    "\n",
    "import numpy as np\n",
    "\n",
    "R = np.matrix([[-1, 0, -1, -1, 0, -1, -1, -1, -1, -1, -1, -1, -1, -1, -1, -1, -1],\n",
    "              [0, -1, -1, -1, -1, 0, -1, -1, -1, -1, -1, -1, -1, -1, -1, -1, -1],\n",
    "              [-1, -1, -1, 0, -1, -1, 0, -1, -1, -1, -1, -1, -1, -1, -1, -1, -1],\n",
    "              [-1, -1, 0, -1, -1, -1, -1, -1, -1, -1, -1, -1, -1, -1, -1, -1, 100],\n",
    "              [0, -1, -1, -1, -1, 0, -1, -1, 0, -1, -1, -1, -1, -1, -1, -1, -1],\n",
    "              [-1, 0, -1, -1, 0, -1, -1, -1, -1, -1, -1, -1, -1, -1, -1, -1, -1],\n",
    "              [-1, -1, 0, -1, -1, -1, -1, -1, -1, -1, -1, -1, -1, -1, -1, -1, -1],\n",
    "              [-1, -1, -1, -1, -1, -1, -1, -1, -1, -1, -1, 0, -1, -1, -1, -1, -1],\n",
    "              [-1, -1, -1, -1, 0, -1, -1, -1, -1, 0, -1, -1, -1, -1, -1, -1, -1],\n",
    "              [-1, -1, -1, -1, -1, -1, -1, -1, 0, -1, 0, -1, -1, 0, -1, -1, -1],\n",
    "              [-1, -1, -1, -1, -1, -1, -1, -1, -1, 0, -1, 0, -1, -1, -1, -1, -1],\n",
    "              [-1, -1, -1, -1, -1, -1, -1, 0, -1, -1, 0, -1, -1, -1, -1, 0, -1],\n",
    "              [-1, -1, -1, -1, -1, -1, -1, -1, -1, -1, -1, -1, -1, 0, -1, -1, 100],\n",
    "              [-1, -1, -1, -1, -1, -1, -1, -1, -1, 0, -1, -1, 0, -1, 0, -1, -1],\n",
    "              [-1, -1, -1, -1, -1, -1, -1, -1, -1, -1, -1, -1, -1, 0, -1, 0, -1],\n",
    "              [-1, -1, -1, -1, -1, -1, -1, -1, -1, -1, -1, 0, -1, -1, 0, -1, -1],\n",
    "              [-1, -1, -1, -1, -1, -1, -1, -1, -1, -1, -1, -1, 0, -1, -1, -1, 100]])\n",
    "\n",
    "Q = np.matrix(np.zeros([17, 17]))\n",
    "gamma = 0.8\n",
    "initial_state = 1"
   ]
  },
  {
   "cell_type": "code",
   "execution_count": 2,
   "metadata": {},
   "outputs": [],
   "source": [
    "# to check the availability of travel to other nodes\n",
    "\n",
    "def available_actions(state):\n",
    "    current_state_row = R[state]\n",
    "    av_act = np.where(current_state_row >= 0)[1]\n",
    "    return av_act"
   ]
  },
  {
   "cell_type": "code",
   "execution_count": 3,
   "metadata": {},
   "outputs": [],
   "source": [
    "available_act = available_actions(initial_state)"
   ]
  },
  {
   "cell_type": "code",
   "execution_count": 4,
   "metadata": {},
   "outputs": [],
   "source": [
    "# choose at random which action to be performed within the range\n",
    "\n",
    "def sample_next_action(available_actions_range):\n",
    "    next_action = int(np.random.choice(available_act, 1))\n",
    "    return next_action"
   ]
  },
  {
   "cell_type": "code",
   "execution_count": 5,
   "metadata": {},
   "outputs": [],
   "source": [
    "action = sample_next_action(available_act)"
   ]
  },
  {
   "cell_type": "code",
   "execution_count": 6,
   "metadata": {},
   "outputs": [],
   "source": [
    "# update the Q matrix according to the path selected and Q learning algorithm\n",
    "\n",
    "def update(current_state, action, gamma):\n",
    "    max_index = np.where(Q[action] == np.max(Q[action]))[1]\n",
    "    if max_index.shape[0] > 1:\n",
    "        max_index = int(np.random.choice(max_index, size = 1))\n",
    "    else:\n",
    "        max_index = int(max_index)\n",
    "    max_value = Q[action, max_index]\n",
    "    Q[current_state, action] = R[current_state, action] + gamma * max_value"
   ]
  },
  {
   "cell_type": "code",
   "execution_count": 7,
   "metadata": {},
   "outputs": [],
   "source": [
    "update(initial_state, action, gamma)"
   ]
  },
  {
   "cell_type": "code",
   "execution_count": 8,
   "metadata": {},
   "outputs": [],
   "source": [
    "# training\n",
    "# iterarte 10,000 times (more train gives us more accuracy)\n",
    "\n",
    "for i in range(10000):\n",
    "    current_state = np.random.randint(0, int(Q.shape[0]))\n",
    "    available_act = available_actions(current_state)\n",
    "    action = sample_next_action(available_act)\n",
    "    update(current_state, action, gamma)"
   ]
  },
  {
   "cell_type": "code",
   "execution_count": 9,
   "metadata": {},
   "outputs": [],
   "source": [
    "# testing\n",
    "\n",
    "current_state = 7\n",
    "steps = [current_state]\n",
    "\n",
    "while current_state != 16:\n",
    "    next_step_index = np.where(Q[current_state] == np.max(Q[current_state]))[1]\n",
    "    if next_step_index.shape[0] > 1:\n",
    "        next_step_index = int(np.random.choice(next_step_index, size=1))\n",
    "    else:\n",
    "        next_step_index = int(next_step_index)\n",
    "    steps.append(next_step_index)\n",
    "    current_state = next_step_index"
   ]
  },
  {
   "cell_type": "code",
   "execution_count": 10,
   "metadata": {},
   "outputs": [
    {
     "name": "stdout",
     "output_type": "stream",
     "text": [
      "Trained Q Matrix\n",
      "[[  0.       20.97152   0.        0.       32.768     0.        0.\n",
      "    0.        0.        0.        0.        0.        0.        0.\n",
      "    0.        0.        0.     ]\n",
      " [ 26.2144    0.        0.        0.        0.       26.2144    0.\n",
      "    0.        0.        0.        0.        0.        0.        0.\n",
      "    0.        0.        0.     ]\n",
      " [  0.        0.        0.       80.        0.        0.       51.2\n",
      "    0.        0.        0.        0.        0.        0.        0.\n",
      "    0.        0.        0.     ]\n",
      " [  0.        0.       64.        0.        0.        0.        0.\n",
      "    0.        0.        0.        0.        0.        0.        0.\n",
      "    0.        0.      100.     ]\n",
      " [ 26.2144    0.        0.        0.        0.       26.2144    0.\n",
      "    0.       40.96      0.        0.        0.        0.        0.\n",
      "    0.        0.        0.     ]\n",
      " [  0.       20.97152   0.        0.       32.768     0.        0.\n",
      "    0.        0.        0.        0.        0.        0.        0.\n",
      "    0.        0.        0.     ]\n",
      " [  0.        0.       64.        0.        0.        0.        0.\n",
      "    0.        0.        0.        0.        0.        0.        0.\n",
      "    0.        0.        0.     ]\n",
      " [  0.        0.        0.        0.        0.        0.        0.\n",
      "    0.        0.        0.        0.       32.768     0.        0.\n",
      "    0.        0.        0.     ]\n",
      " [  0.        0.        0.        0.       32.768     0.        0.\n",
      "    0.        0.       51.2       0.        0.        0.        0.\n",
      "    0.        0.        0.     ]\n",
      " [  0.        0.        0.        0.        0.        0.        0.\n",
      "    0.       40.96      0.       40.96      0.        0.       64.\n",
      "    0.        0.        0.     ]\n",
      " [  0.        0.        0.        0.        0.        0.        0.\n",
      "    0.        0.       51.2       0.       32.768     0.        0.\n",
      "    0.        0.        0.     ]\n",
      " [  0.        0.        0.        0.        0.        0.        0.\n",
      "   26.2144    0.        0.       40.96      0.        0.        0.\n",
      "    0.       40.96      0.     ]\n",
      " [  0.        0.        0.        0.        0.        0.        0.\n",
      "    0.        0.        0.        0.        0.        0.       64.\n",
      "    0.        0.      100.     ]\n",
      " [  0.        0.        0.        0.        0.        0.        0.\n",
      "    0.        0.       51.2       0.        0.       80.        0.\n",
      "   51.2       0.        0.     ]\n",
      " [  0.        0.        0.        0.        0.        0.        0.\n",
      "    0.        0.        0.        0.        0.        0.       64.\n",
      "    0.       40.96      0.     ]\n",
      " [  0.        0.        0.        0.        0.        0.        0.\n",
      "    0.        0.        0.        0.       32.768     0.        0.\n",
      "   51.2       0.        0.     ]\n",
      " [  0.        0.        0.        0.        0.        0.        0.\n",
      "    0.        0.        0.        0.        0.       80.        0.\n",
      "    0.        0.      100.     ]]\n",
      "Selected Paths :\n",
      "[7, 11, 15, 14, 13, 12, 16]\n"
     ]
    }
   ],
   "source": [
    "# print statemet for Q matrix and selected paths \n",
    "print('Trained Q Matrix')\n",
    "# normalize the trained Q matrix (because computation hard on larger number)\n",
    "print(Q/np.max(Q) * 100)\n",
    "print(\"Selected Paths :\")\n",
    "print(steps)"
   ]
  }
 ],
 "metadata": {
  "kernelspec": {
   "display_name": "Python 3",
   "language": "python",
   "name": "python3"
  },
  "language_info": {
   "name": ""
  }
 },
 "nbformat": 4,
 "nbformat_minor": 4
}
